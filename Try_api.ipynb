{
 "cells": [
  {
   "cell_type": "code",
   "execution_count": 1,
   "id": "4b82c08f",
   "metadata": {},
   "outputs": [
    {
     "name": "stdout",
     "output_type": "stream",
     "text": [
      "loading Roboflow workspace...\n",
      "loading Roboflow project...\n"
     ]
    },
    {
     "ename": "RuntimeError",
     "evalue": "Version number 8 is not found.",
     "output_type": "error",
     "traceback": [
      "\u001b[1;31m---------------------------------------------------------------------------\u001b[0m",
      "\u001b[1;31mRuntimeError\u001b[0m                              Traceback (most recent call last)",
      "Cell \u001b[1;32mIn[1], line 5\u001b[0m\n\u001b[0;32m      3\u001b[0m rf \u001b[38;5;241m=\u001b[39m Roboflow(api_key\u001b[38;5;241m=\u001b[39m\u001b[38;5;124m\"\u001b[39m\u001b[38;5;124mU7APQuqlPNnupi8aQcnM\u001b[39m\u001b[38;5;124m\"\u001b[39m)\n\u001b[0;32m      4\u001b[0m project \u001b[38;5;241m=\u001b[39m rf\u001b[38;5;241m.\u001b[39mworkspace(\u001b[38;5;124m\"\u001b[39m\u001b[38;5;124mroboflow-universe\u001b[39m\u001b[38;5;124m\"\u001b[39m)\u001b[38;5;241m.\u001b[39mproject(\u001b[38;5;124m\"\u001b[39m\u001b[38;5;124mmicrosoft-coco\u001b[39m\u001b[38;5;124m\"\u001b[39m)\n\u001b[1;32m----> 5\u001b[0m dataset \u001b[38;5;241m=\u001b[39m \u001b[43mproject\u001b[49m\u001b[38;5;241;43m.\u001b[39;49m\u001b[43mversion\u001b[49m\u001b[43m(\u001b[49m\u001b[38;5;241;43m8\u001b[39;49m\u001b[43m)\u001b[49m\u001b[38;5;241m.\u001b[39mdownload(\u001b[38;5;124m\"\u001b[39m\u001b[38;5;124myolov8\u001b[39m\u001b[38;5;124m\"\u001b[39m, split_ratio\u001b[38;5;241m=\u001b[39m{\u001b[38;5;124m\"\u001b[39m\u001b[38;5;124mtrain\u001b[39m\u001b[38;5;124m\"\u001b[39m: \u001b[38;5;241m0.1\u001b[39m, \u001b[38;5;124m\"\u001b[39m\u001b[38;5;124mvalid\u001b[39m\u001b[38;5;124m\"\u001b[39m: \u001b[38;5;241m0.02\u001b[39m})\n",
      "File \u001b[1;32mc:\\Users\\aryas\\AppData\\Local\\Programs\\Python\\Python310\\lib\\site-packages\\roboflow\\core\\project.py:357\u001b[0m, in \u001b[0;36mProject.version\u001b[1;34m(self, version_number, local)\u001b[0m\n\u001b[0;32m    342\u001b[0m         vers \u001b[38;5;241m=\u001b[39m Version(\n\u001b[0;32m    343\u001b[0m             version_object,\n\u001b[0;32m    344\u001b[0m             \u001b[38;5;28mself\u001b[39m\u001b[38;5;241m.\u001b[39mtype,\n\u001b[1;32m   (...)\u001b[0m\n\u001b[0;32m    353\u001b[0m             colors\u001b[38;5;241m=\u001b[39m\u001b[38;5;28mself\u001b[39m\u001b[38;5;241m.\u001b[39mcolors,\n\u001b[0;32m    354\u001b[0m         )\n\u001b[0;32m    355\u001b[0m         \u001b[38;5;28;01mreturn\u001b[39;00m vers\n\u001b[1;32m--> 357\u001b[0m \u001b[38;5;28;01mraise\u001b[39;00m \u001b[38;5;167;01mRuntimeError\u001b[39;00m(\u001b[38;5;124mf\u001b[39m\u001b[38;5;124m\"\u001b[39m\u001b[38;5;124mVersion number \u001b[39m\u001b[38;5;132;01m{\u001b[39;00mversion_number\u001b[38;5;132;01m}\u001b[39;00m\u001b[38;5;124m is not found.\u001b[39m\u001b[38;5;124m\"\u001b[39m)\n",
      "\u001b[1;31mRuntimeError\u001b[0m: Version number 8 is not found."
     ]
    }
   ],
   "source": [
    "from roboflow import Roboflow\n",
    "\n",
    "rf = Roboflow(api_key=\"U7APQuqlPNnupi8aQcnM\")\n",
    "project = rf.workspace(\"roboflow-universe\").project(\"microsoft-coco\")\n",
    "dataset = project.version(8).download(\"yolov8\", split_ratio={\"train\": 0.1, \"valid\": 0.02})"
   ]
  },
  {
   "cell_type": "code",
   "execution_count": null,
   "id": "8627539b",
   "metadata": {},
   "outputs": [],
   "source": []
  }
 ],
 "metadata": {
  "kernelspec": {
   "display_name": "Python 3",
   "language": "python",
   "name": "python3"
  },
  "language_info": {
   "codemirror_mode": {
    "name": "ipython",
    "version": 3
   },
   "file_extension": ".py",
   "mimetype": "text/x-python",
   "name": "python",
   "nbconvert_exporter": "python",
   "pygments_lexer": "ipython3",
   "version": "3.10.0"
  }
 },
 "nbformat": 4,
 "nbformat_minor": 5
}
